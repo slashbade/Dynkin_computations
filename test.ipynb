{
 "cells": [
  {
   "cell_type": "markdown",
   "metadata": {},
   "source": [
    "# Examples"
   ]
  },
  {
   "cell_type": "code",
   "execution_count": 1,
   "metadata": {},
   "outputs": [],
   "source": [
    "from cartan_subalgebra import *\n",
    "from basic import *\n",
    "from general_linear import *"
   ]
  },
  {
   "cell_type": "code",
   "execution_count": 2,
   "metadata": {},
   "outputs": [
    {
     "name": "stdout",
     "output_type": "stream",
     "text": [
      "[[[ 0.  0.  0.  0.  0.  0.  0.  0.]\n",
      "  [ 0.  0.  0.  0.  0.  0.  0.  0.]\n",
      "  [ 0.  0.  2.  0.  0.  0.  0.  0.]\n",
      "  [ 0.  0.  0.  1.  0.  0.  0.  0.]\n",
      "  [ 0.  0.  0.  0. -1.  0.  0.  0.]\n",
      "  [ 0.  0.  0.  0.  0. -2.  0.  0.]\n",
      "  [ 0.  0.  0.  0.  0.  0. -1.  0.]\n",
      "  [ 0.  0.  0.  0.  0.  0.  0.  1.]]\n",
      "\n",
      " [[ 0.  0.  0.  0.  0.  0.  0.  0.]\n",
      "  [ 0.  0.  0.  0.  0.  0.  0.  0.]\n",
      "  [ 0.  0. -1.  0.  0.  0.  0.  0.]\n",
      "  [ 0.  0.  0.  1.  0.  0.  0.  0.]\n",
      "  [ 0.  0.  0.  0.  2.  0.  0.  0.]\n",
      "  [ 0.  0.  0.  0.  0.  1.  0.  0.]\n",
      "  [ 0.  0.  0.  0.  0.  0. -1.  0.]\n",
      "  [ 0.  0.  0.  0.  0.  0.  0. -2.]]\n",
      "\n",
      " [[ 0.  0. -2.  0.  0.  0.  0.  0.]\n",
      "  [ 0.  0.  1.  0.  0.  0.  0.  0.]\n",
      "  [ 0.  0.  0.  0.  0.  0.  0.  0.]\n",
      "  [ 0.  0.  0.  0.  0.  0.  0.  0.]\n",
      "  [ 0.  0.  0.  1.  0.  0.  0.  0.]\n",
      "  [ 1.  0.  0.  0.  0.  0.  0.  0.]\n",
      "  [ 0.  0.  0.  0.  0.  0.  0. -1.]\n",
      "  [ 0.  0.  0.  0.  0.  0.  0.  0.]]\n",
      "\n",
      " [[ 0.  0.  0. -1.  0.  0.  0.  0.]\n",
      "  [ 0.  0.  0. -1.  0.  0.  0.  0.]\n",
      "  [ 0.  0.  0.  0.  0.  0.  0.  0.]\n",
      "  [ 0.  0.  0.  0.  0.  0.  0.  0.]\n",
      "  [ 0.  0.  0.  0.  0.  0.  0.  0.]\n",
      "  [ 0.  0.  0.  0. -1.  0.  0.  0.]\n",
      "  [ 1.  1.  0.  0.  0.  0.  0.  0.]\n",
      "  [ 0.  0.  1.  0.  0.  0.  0.  0.]]\n",
      "\n",
      " [[ 0.  0.  0.  0.  1.  0.  0.  0.]\n",
      "  [ 0.  0.  0.  0. -2.  0.  0.  0.]\n",
      "  [ 0.  0.  0. -1.  0.  0.  0.  0.]\n",
      "  [ 0.  0.  0.  0.  0.  0.  0.  0.]\n",
      "  [ 0.  0.  0.  0.  0.  0.  0.  0.]\n",
      "  [ 0.  0.  0.  0.  0.  0.  0.  0.]\n",
      "  [ 0.  0.  0.  0.  0.  1.  0.  0.]\n",
      "  [ 0.  1.  0.  0.  0.  0.  0.  0.]]\n",
      "\n",
      " [[ 0.  0.  0.  0.  0.  2.  0.  0.]\n",
      "  [ 0.  0.  0.  0.  0. -1.  0.  0.]\n",
      "  [-1.  0.  0.  0.  0.  0.  0.  0.]\n",
      "  [ 0.  0.  0.  0.  1.  0.  0.  0.]\n",
      "  [ 0.  0.  0.  0.  0.  0.  0.  0.]\n",
      "  [ 0.  0.  0.  0.  0.  0.  0.  0.]\n",
      "  [ 0.  0.  0.  0.  0.  0.  0.  0.]\n",
      "  [ 0.  0.  0.  0.  0.  0. -1.  0.]]\n",
      "\n",
      " [[ 0.  0.  0.  0.  0.  0.  1.  0.]\n",
      "  [ 0.  0.  0.  0.  0.  0.  1.  0.]\n",
      "  [ 0.  0.  0.  0.  0.  0.  0.  1.]\n",
      "  [-1. -1.  0.  0.  0.  0.  0.  0.]\n",
      "  [ 0.  0.  0.  0.  0. -1.  0.  0.]\n",
      "  [ 0.  0.  0.  0.  0.  0.  0.  0.]\n",
      "  [ 0.  0.  0.  0.  0.  0.  0.  0.]\n",
      "  [ 0.  0.  0.  0.  0.  0.  0.  0.]]\n",
      "\n",
      " [[ 0.  0.  0.  0.  0.  0.  0. -1.]\n",
      "  [ 0.  0.  0.  0.  0.  0.  0.  2.]\n",
      "  [ 0.  0.  0.  0.  0.  0.  0.  0.]\n",
      "  [ 0.  0. -1.  0.  0.  0.  0.  0.]\n",
      "  [ 0. -1.  0.  0.  0.  0.  0.  0.]\n",
      "  [ 0.  0.  0.  0.  0.  0.  1.  0.]\n",
      "  [ 0.  0.  0.  0.  0.  0.  0.  0.]\n",
      "  [ 0.  0.  0.  0.  0.  0.  0.  0.]]]\n"
     ]
    }
   ],
   "source": [
    "basis = np.stack([E_unit(3, 0, 0) - E_unit(3, 1, 1), E_unit(3, 1, 1) - E_unit(3, 2, 2), \n",
    "                      E_unit(3, 0, 1), E_unit(3, 0, 2), E_unit(3, 1, 2), E_unit(3, 1, 0),\n",
    "                      E_unit(3, 2, 0), E_unit(3, 2, 1)])\n",
    "GL = GeneralLinear(basis=basis)\n",
    "print(GL.structure_constant)"
   ]
  },
  {
   "cell_type": "code",
   "execution_count": 3,
   "metadata": {},
   "outputs": [],
   "source": [
    "structure_constant = GL._structure_constant()\n",
    "L = LieAlgebra(structure_constant=structure_constant)\n",
    "K = LieSubalgebra(L, L.basis[:3])"
   ]
  },
  {
   "cell_type": "code",
   "execution_count": 4,
   "metadata": {},
   "outputs": [
    {
     "name": "stdout",
     "output_type": "stream",
     "text": [
      "the product between 0-th basis and 1-th basis given by Killing form is -6.0\n",
      "the adjoint repn of 2-th basis is \n",
      " [[ 0.  0.  0.  0.  0.  1.  0.  0.]\n",
      " [ 0.  0.  0.  0.  0.  0.  0.  0.]\n",
      " [-2.  1.  0.  0.  0.  0.  0.  0.]\n",
      " [ 0.  0.  0.  0.  1.  0.  0.  0.]\n",
      " [ 0.  0.  0.  0.  0.  0.  0.  0.]\n",
      " [ 0.  0.  0.  0.  0.  0.  0.  0.]\n",
      " [ 0.  0.  0.  0.  0.  0.  0.  0.]\n",
      " [ 0.  0.  0.  0.  0.  0. -1.  0.]]\n",
      "checking ad-nilpotency: True\n",
      "checking semi-simplicity: True\n"
     ]
    }
   ],
   "source": [
    "print(f\"the product between {0}-th basis and {1}-th basis given by Killing form is {Killing_form(L, x=L.basis[0], y=L.basis[1])}\")\n",
    "print(f\"the adjoint repn of {2}-th basis is \\n {adjoint(L,x=L.basis[2])}\")\n",
    "print(f\"checking ad-nilpotency: {is_ad_nilpotent(L, x=L.basis[2] + L.basis[3] + L.basis[4])}\")\n",
    "print(f\"checking semi-simplicity: {is_semisimple(L)}\")"
   ]
  },
  {
   "cell_type": "code",
   "execution_count": 5,
   "metadata": {},
   "outputs": [
    {
     "name": "stdout",
     "output_type": "stream",
     "text": [
      "basis of CSA:\n",
      " [[1. 0. 0. 0. 0. 0. 0. 0.]\n",
      " [0. 1. 0. 0. 0. 0. 0. 0.]]\n"
     ]
    }
   ],
   "source": [
    "CSA = cartan_subalgebra(L)\n",
    "print(f\"basis of CSA:\\n {CSA.basis}\")"
   ]
  },
  {
   "cell_type": "code",
   "execution_count": 6,
   "metadata": {},
   "outputs": [
    {
     "name": "stdout",
     "output_type": "stream",
     "text": [
      "[[ 2.  0.  0.  0. -1. -1.]\n",
      " [ 0.  2.  0. -1.  0.  0.]\n",
      " [ 0.  0.  2. -1.  0.  0.]\n",
      " [ 0. -1. -1.  2.  0. -1.]\n",
      " [-1.  0.  0.  0.  2.  0.]\n",
      " [-1.  0.  0. -1.  0.  2.]]\n"
     ]
    }
   ],
   "source": [
    "from plot import plot_graph, get_graph\n",
    "from root_space_decomposition import *\n",
    "basis_so3 = type_D_basis(6)\n",
    "GL = GeneralLinear(basis=basis_so3)\n",
    "L = LieAlgebra(structure_constant=GL._structure_constant())\n",
    "H = cartan_subalgebra(L)\n",
    "roots = root_space_decomposition(L, H)\n",
    "base1 = base(roots)\n",
    "cartan_matrix = cartan_matrix_from_base(L, H, base1)\n",
    "print(cartan_matrix)"
   ]
  },
  {
   "cell_type": "code",
   "execution_count": 7,
   "metadata": {},
   "outputs": [
    {
     "name": "stdout",
     "output_type": "stream",
     "text": [
      "0.0 edges between 0 and 1\n",
      "0.0 edges between 0 and 2\n",
      "0.0 edges between 0 and 3\n",
      "1.0 edges between 0 and 4\n",
      "1.0 edges between 0 and 5\n",
      "0.0 edges between 1 and 2\n",
      "1.0 edges between 1 and 3\n",
      "0.0 edges between 1 and 4\n",
      "0.0 edges between 1 and 5\n",
      "1.0 edges between 2 and 3\n",
      "0.0 edges between 2 and 4\n",
      "0.0 edges between 2 and 5\n",
      "0.0 edges between 3 and 4\n",
      "1.0 edges between 3 and 5\n",
      "0.0 edges between 4 and 5\n"
     ]
    }
   ],
   "source": [
    "\n",
    "G = get_graph(cartan_matrix)\n"
   ]
  },
  {
   "cell_type": "code",
   "execution_count": 8,
   "metadata": {},
   "outputs": [
    {
     "name": "stdout",
     "output_type": "stream",
     "text": [
      "0.0 edges between 0 and 1\n",
      "0.0 edges between 0 and 2\n",
      "0.0 edges between 0 and 3\n",
      "1.0 edges between 0 and 4\n",
      "1.0 edges between 0 and 5\n",
      "0.0 edges between 1 and 2\n",
      "1.0 edges between 1 and 3\n",
      "0.0 edges between 1 and 4\n",
      "0.0 edges between 1 and 5\n",
      "1.0 edges between 2 and 3\n",
      "0.0 edges between 2 and 4\n",
      "0.0 edges between 2 and 5\n",
      "0.0 edges between 3 and 4\n",
      "1.0 edges between 3 and 5\n",
      "0.0 edges between 4 and 5\n"
     ]
    },
    {
     "data": {
      "image/png": "[encoded data removed]",
      "text/plain": [
       "<Figure size 640x480 with 1 Axes>"
      ]
     },
     "metadata": {},
     "output_type": "display_data"
    }
   ],
   "source": [
    "plot_graph(cartan_matrix)"
   ]
  }
 ],
 "metadata": {
  "kernelspec": {
   "display_name": "torch_ml",
   "language": "python",
   "name": "python3"
  },
  "language_info": {
   "codemirror_mode": {
    "name": "ipython",
    "version": 3
   },
   "file_extension": ".py",
   "mimetype": "text/x-python",
   "name": "python",
   "nbconvert_exporter": "python",
   "pygments_lexer": "ipython3",
   "version": "3.12.2"
  }
 },
 "nbformat": 4,
 "nbformat_minor": 2
}
